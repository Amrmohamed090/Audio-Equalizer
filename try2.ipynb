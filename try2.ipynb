{
 "cells": [
  {
   "cell_type": "code",
   "execution_count": null,
   "id": "32ac77a4",
   "metadata": {},
   "outputs": [],
   "source": [
    "\n",
    "\n",
    "def inverse(amp,phase):\n",
    "    combined=np.multiply(amp,np.exp(1j*phase))\n",
    "    inverse_combined=fft.ifft(combined)\n",
    "    signal=np.real(inverse_combined)\n",
    "    return signal"
   ]
  }
 ],
 "metadata": {
  "kernelspec": {
   "display_name": "Python 3 (ipykernel)",
   "language": "python",
   "name": "python3"
  },
  "language_info": {
   "codemirror_mode": {
    "name": "ipython",
    "version": 3
   },
   "file_extension": ".py",
   "mimetype": "text/x-python",
   "name": "python",
   "nbconvert_exporter": "python",
   "pygments_lexer": "ipython3",
   "version": "3.10.7"
  }
 },
 "nbformat": 4,
 "nbformat_minor": 5
}
